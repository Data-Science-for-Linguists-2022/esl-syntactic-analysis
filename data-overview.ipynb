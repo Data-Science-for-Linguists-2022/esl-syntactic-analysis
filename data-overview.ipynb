{
 "cells": [
  {
   "cell_type": "markdown",
   "metadata": {
    "collapsed": true,
    "pycharm": {
     "name": "#%% md\n"
    }
   },
   "source": [
    "# Data Overview\n",
    "\n",
    "### Table of Contents\n",
    "- [Data Processing](#Data-Processing)\n",
    "- [Basic Statistics](#Basic-Statistics)\n",
    "- [Data Samples](#Data-Samples)\n",
    "\n",
    "\n",
    "This Jupyter notebook provides a general overview of the data processing and analysis workflow for the PELIC dataset.\n",
    "Because the original data has already been cleaned and organized, the workflow fairly straightforward, which is something that I'm very grateful for.\n",
    "\n",
    "## Data Processing\n",
    "\n",
    "Import Python modules and PELIC CSV file data processing:"
   ]
  },
  {
   "cell_type": "code",
   "execution_count": 1,
   "outputs": [],
   "source": [
    "import pandas as pd\n",
    "import matplotlib.pyplot as plt\n",
    "import seaborn as sns"
   ],
   "metadata": {
    "collapsed": false,
    "pycharm": {
     "name": "#%%\n"
    }
   }
  },
  {
   "cell_type": "code",
   "execution_count": 2,
   "outputs": [
    {
     "name": "stdout",
     "output_type": "stream",
     "text": [
      "<class 'pandas.core.frame.DataFrame'>\n",
      "RangeIndex: 46204 entries, 0 to 46203\n",
      "Data columns (total 15 columns):\n",
      " #   Column          Non-Null Count  Dtype  \n",
      "---  ------          --------------  -----  \n",
      " 0   answer_id       46204 non-null  int64  \n",
      " 1   anon_id         46204 non-null  object \n",
      " 2   L1              46204 non-null  object \n",
      " 3   gender          46204 non-null  object \n",
      " 4   semester        46204 non-null  object \n",
      " 5   placement_test  23563 non-null  float64\n",
      " 6   course_id       46204 non-null  int64  \n",
      " 7   level_id        46204 non-null  int64  \n",
      " 8   class_id        46204 non-null  object \n",
      " 9   question_id     46204 non-null  int64  \n",
      " 10  version         46204 non-null  int64  \n",
      " 11  text_len        46204 non-null  int64  \n",
      " 12  text            46204 non-null  object \n",
      " 13  tokens          46204 non-null  object \n",
      " 14  tok_lem_POS     46204 non-null  object \n",
      "dtypes: float64(1), int64(6), object(8)\n",
      "memory usage: 5.3+ MB\n"
     ]
    },
    {
     "data": {
      "text/plain": "   answer_id anon_id       L1  gender   semester  placement_test  course_id  \\\n0          1     eq0   Arabic    Male  2006_fall             NaN        149   \n1          2     am8     Thai  Female  2006_fall             NaN        149   \n2          3     dk5  Turkish  Female  2006_fall             NaN        115   \n3          4     dk5  Turkish  Female  2006_fall             NaN        115   \n4          5     ad1   Korean  Female  2006_fall             NaN        115   \n\n   level_id class_id  question_id  version  text_len  \\\n0         4        g            5        1       177   \n1         4        g            5        1       137   \n2         4        w           12        1        63   \n3         4        w           13        1         6   \n4         4        w           12        1        59   \n\n                                                text  \\\n0  I met my friend Nife while I was studying in a...   \n1  Ten years ago, I met a women on the train betw...   \n2  In my country we usually don't use tea bags. F...   \n3              I organized the instructions by time.   \n4  First, prepare a port, loose tea, and cup.\\nSe...   \n\n                                              tokens  \\\n0  ['I', 'met', 'my', 'friend', 'Nife', 'while', ...   \n1  ['Ten', 'years', 'ago', ',', 'I', 'met', 'a', ...   \n2  ['In', 'my', 'country', 'we', 'usually', 'do',...   \n3  ['I', 'organized', 'the', 'instructions', 'by'...   \n4  ['First', ',', 'prepare', 'a', 'port', ',', 'l...   \n\n                                         tok_lem_POS  \n0  [('I', 'I', 'PRP'), ('met', 'meet', 'VBD'), ('...  \n1  [('Ten', 'ten', 'CD'), ('years', 'year', 'NNS'...  \n2  [('In', 'in', 'IN'), ('my', 'my', 'PRP$'), ('c...  \n3  [('I', 'I', 'PRP'), ('organized', 'organize', ...  \n4  [('First', 'first', 'RB'), (',', ',', ','), ('...  ",
      "text/html": "<div>\n<style scoped>\n    .dataframe tbody tr th:only-of-type {\n        vertical-align: middle;\n    }\n\n    .dataframe tbody tr th {\n        vertical-align: top;\n    }\n\n    .dataframe thead th {\n        text-align: right;\n    }\n</style>\n<table border=\"1\" class=\"dataframe\">\n  <thead>\n    <tr style=\"text-align: right;\">\n      <th></th>\n      <th>answer_id</th>\n      <th>anon_id</th>\n      <th>L1</th>\n      <th>gender</th>\n      <th>semester</th>\n      <th>placement_test</th>\n      <th>course_id</th>\n      <th>level_id</th>\n      <th>class_id</th>\n      <th>question_id</th>\n      <th>version</th>\n      <th>text_len</th>\n      <th>text</th>\n      <th>tokens</th>\n      <th>tok_lem_POS</th>\n    </tr>\n  </thead>\n  <tbody>\n    <tr>\n      <th>0</th>\n      <td>1</td>\n      <td>eq0</td>\n      <td>Arabic</td>\n      <td>Male</td>\n      <td>2006_fall</td>\n      <td>NaN</td>\n      <td>149</td>\n      <td>4</td>\n      <td>g</td>\n      <td>5</td>\n      <td>1</td>\n      <td>177</td>\n      <td>I met my friend Nife while I was studying in a...</td>\n      <td>['I', 'met', 'my', 'friend', 'Nife', 'while', ...</td>\n      <td>[('I', 'I', 'PRP'), ('met', 'meet', 'VBD'), ('...</td>\n    </tr>\n    <tr>\n      <th>1</th>\n      <td>2</td>\n      <td>am8</td>\n      <td>Thai</td>\n      <td>Female</td>\n      <td>2006_fall</td>\n      <td>NaN</td>\n      <td>149</td>\n      <td>4</td>\n      <td>g</td>\n      <td>5</td>\n      <td>1</td>\n      <td>137</td>\n      <td>Ten years ago, I met a women on the train betw...</td>\n      <td>['Ten', 'years', 'ago', ',', 'I', 'met', 'a', ...</td>\n      <td>[('Ten', 'ten', 'CD'), ('years', 'year', 'NNS'...</td>\n    </tr>\n    <tr>\n      <th>2</th>\n      <td>3</td>\n      <td>dk5</td>\n      <td>Turkish</td>\n      <td>Female</td>\n      <td>2006_fall</td>\n      <td>NaN</td>\n      <td>115</td>\n      <td>4</td>\n      <td>w</td>\n      <td>12</td>\n      <td>1</td>\n      <td>63</td>\n      <td>In my country we usually don't use tea bags. F...</td>\n      <td>['In', 'my', 'country', 'we', 'usually', 'do',...</td>\n      <td>[('In', 'in', 'IN'), ('my', 'my', 'PRP$'), ('c...</td>\n    </tr>\n    <tr>\n      <th>3</th>\n      <td>4</td>\n      <td>dk5</td>\n      <td>Turkish</td>\n      <td>Female</td>\n      <td>2006_fall</td>\n      <td>NaN</td>\n      <td>115</td>\n      <td>4</td>\n      <td>w</td>\n      <td>13</td>\n      <td>1</td>\n      <td>6</td>\n      <td>I organized the instructions by time.</td>\n      <td>['I', 'organized', 'the', 'instructions', 'by'...</td>\n      <td>[('I', 'I', 'PRP'), ('organized', 'organize', ...</td>\n    </tr>\n    <tr>\n      <th>4</th>\n      <td>5</td>\n      <td>ad1</td>\n      <td>Korean</td>\n      <td>Female</td>\n      <td>2006_fall</td>\n      <td>NaN</td>\n      <td>115</td>\n      <td>4</td>\n      <td>w</td>\n      <td>12</td>\n      <td>1</td>\n      <td>59</td>\n      <td>First, prepare a port, loose tea, and cup.\\nSe...</td>\n      <td>['First', ',', 'prepare', 'a', 'port', ',', 'l...</td>\n      <td>[('First', 'first', 'RB'), (',', ',', ','), ('...</td>\n    </tr>\n  </tbody>\n</table>\n</div>"
     },
     "execution_count": 2,
     "metadata": {},
     "output_type": "execute_result"
    }
   ],
   "source": [
    "pelic = pd.read_csv(\"data/PELIC_compiled.csv\")\n",
    "pelic.info()\n",
    "pelic.head()"
   ],
   "metadata": {
    "collapsed": false,
    "pycharm": {
     "name": "#%%\n"
    }
   }
  },
  {
   "cell_type": "markdown",
   "source": [
    "Since `answer_id` is unique for each row, make that the index:"
   ],
   "metadata": {
    "collapsed": false,
    "pycharm": {
     "name": "#%% md\n"
    }
   }
  },
  {
   "cell_type": "code",
   "execution_count": 3,
   "outputs": [
    {
     "name": "stdout",
     "output_type": "stream",
     "text": [
      "<class 'pandas.core.frame.DataFrame'>\n",
      "Int64Index: 46204 entries, 1 to 48420\n",
      "Data columns (total 14 columns):\n",
      " #   Column          Non-Null Count  Dtype  \n",
      "---  ------          --------------  -----  \n",
      " 0   anon_id         46204 non-null  object \n",
      " 1   L1              46204 non-null  object \n",
      " 2   gender          46204 non-null  object \n",
      " 3   semester        46204 non-null  object \n",
      " 4   placement_test  23563 non-null  float64\n",
      " 5   course_id       46204 non-null  int64  \n",
      " 6   level_id        46204 non-null  int64  \n",
      " 7   class_id        46204 non-null  object \n",
      " 8   question_id     46204 non-null  int64  \n",
      " 9   version         46204 non-null  int64  \n",
      " 10  text_len        46204 non-null  int64  \n",
      " 11  text            46204 non-null  object \n",
      " 12  tokens          46204 non-null  object \n",
      " 13  tok_lem_POS     46204 non-null  object \n",
      "dtypes: float64(1), int64(5), object(8)\n",
      "memory usage: 5.3+ MB\n"
     ]
    },
    {
     "data": {
      "text/plain": "          anon_id       L1  gender   semester  placement_test  course_id  \\\nanswer_id                                                                  \n1             eq0   Arabic    Male  2006_fall             NaN        149   \n2             am8     Thai  Female  2006_fall             NaN        149   \n3             dk5  Turkish  Female  2006_fall             NaN        115   \n4             dk5  Turkish  Female  2006_fall             NaN        115   \n5             ad1   Korean  Female  2006_fall             NaN        115   \n\n           level_id class_id  question_id  version  text_len  \\\nanswer_id                                                      \n1                 4        g            5        1       177   \n2                 4        g            5        1       137   \n3                 4        w           12        1        63   \n4                 4        w           13        1         6   \n5                 4        w           12        1        59   \n\n                                                        text  \\\nanswer_id                                                      \n1          I met my friend Nife while I was studying in a...   \n2          Ten years ago, I met a women on the train betw...   \n3          In my country we usually don't use tea bags. F...   \n4                      I organized the instructions by time.   \n5          First, prepare a port, loose tea, and cup.\\nSe...   \n\n                                                      tokens  \\\nanswer_id                                                      \n1          ['I', 'met', 'my', 'friend', 'Nife', 'while', ...   \n2          ['Ten', 'years', 'ago', ',', 'I', 'met', 'a', ...   \n3          ['In', 'my', 'country', 'we', 'usually', 'do',...   \n4          ['I', 'organized', 'the', 'instructions', 'by'...   \n5          ['First', ',', 'prepare', 'a', 'port', ',', 'l...   \n\n                                                 tok_lem_POS  \nanswer_id                                                     \n1          [('I', 'I', 'PRP'), ('met', 'meet', 'VBD'), ('...  \n2          [('Ten', 'ten', 'CD'), ('years', 'year', 'NNS'...  \n3          [('In', 'in', 'IN'), ('my', 'my', 'PRP$'), ('c...  \n4          [('I', 'I', 'PRP'), ('organized', 'organize', ...  \n5          [('First', 'first', 'RB'), (',', ',', ','), ('...  ",
      "text/html": "<div>\n<style scoped>\n    .dataframe tbody tr th:only-of-type {\n        vertical-align: middle;\n    }\n\n    .dataframe tbody tr th {\n        vertical-align: top;\n    }\n\n    .dataframe thead th {\n        text-align: right;\n    }\n</style>\n<table border=\"1\" class=\"dataframe\">\n  <thead>\n    <tr style=\"text-align: right;\">\n      <th></th>\n      <th>anon_id</th>\n      <th>L1</th>\n      <th>gender</th>\n      <th>semester</th>\n      <th>placement_test</th>\n      <th>course_id</th>\n      <th>level_id</th>\n      <th>class_id</th>\n      <th>question_id</th>\n      <th>version</th>\n      <th>text_len</th>\n      <th>text</th>\n      <th>tokens</th>\n      <th>tok_lem_POS</th>\n    </tr>\n    <tr>\n      <th>answer_id</th>\n      <th></th>\n      <th></th>\n      <th></th>\n      <th></th>\n      <th></th>\n      <th></th>\n      <th></th>\n      <th></th>\n      <th></th>\n      <th></th>\n      <th></th>\n      <th></th>\n      <th></th>\n      <th></th>\n    </tr>\n  </thead>\n  <tbody>\n    <tr>\n      <th>1</th>\n      <td>eq0</td>\n      <td>Arabic</td>\n      <td>Male</td>\n      <td>2006_fall</td>\n      <td>NaN</td>\n      <td>149</td>\n      <td>4</td>\n      <td>g</td>\n      <td>5</td>\n      <td>1</td>\n      <td>177</td>\n      <td>I met my friend Nife while I was studying in a...</td>\n      <td>['I', 'met', 'my', 'friend', 'Nife', 'while', ...</td>\n      <td>[('I', 'I', 'PRP'), ('met', 'meet', 'VBD'), ('...</td>\n    </tr>\n    <tr>\n      <th>2</th>\n      <td>am8</td>\n      <td>Thai</td>\n      <td>Female</td>\n      <td>2006_fall</td>\n      <td>NaN</td>\n      <td>149</td>\n      <td>4</td>\n      <td>g</td>\n      <td>5</td>\n      <td>1</td>\n      <td>137</td>\n      <td>Ten years ago, I met a women on the train betw...</td>\n      <td>['Ten', 'years', 'ago', ',', 'I', 'met', 'a', ...</td>\n      <td>[('Ten', 'ten', 'CD'), ('years', 'year', 'NNS'...</td>\n    </tr>\n    <tr>\n      <th>3</th>\n      <td>dk5</td>\n      <td>Turkish</td>\n      <td>Female</td>\n      <td>2006_fall</td>\n      <td>NaN</td>\n      <td>115</td>\n      <td>4</td>\n      <td>w</td>\n      <td>12</td>\n      <td>1</td>\n      <td>63</td>\n      <td>In my country we usually don't use tea bags. F...</td>\n      <td>['In', 'my', 'country', 'we', 'usually', 'do',...</td>\n      <td>[('In', 'in', 'IN'), ('my', 'my', 'PRP$'), ('c...</td>\n    </tr>\n    <tr>\n      <th>4</th>\n      <td>dk5</td>\n      <td>Turkish</td>\n      <td>Female</td>\n      <td>2006_fall</td>\n      <td>NaN</td>\n      <td>115</td>\n      <td>4</td>\n      <td>w</td>\n      <td>13</td>\n      <td>1</td>\n      <td>6</td>\n      <td>I organized the instructions by time.</td>\n      <td>['I', 'organized', 'the', 'instructions', 'by'...</td>\n      <td>[('I', 'I', 'PRP'), ('organized', 'organize', ...</td>\n    </tr>\n    <tr>\n      <th>5</th>\n      <td>ad1</td>\n      <td>Korean</td>\n      <td>Female</td>\n      <td>2006_fall</td>\n      <td>NaN</td>\n      <td>115</td>\n      <td>4</td>\n      <td>w</td>\n      <td>12</td>\n      <td>1</td>\n      <td>59</td>\n      <td>First, prepare a port, loose tea, and cup.\\nSe...</td>\n      <td>['First', ',', 'prepare', 'a', 'port', ',', 'l...</td>\n      <td>[('First', 'first', 'RB'), (',', ',', ','), ('...</td>\n    </tr>\n  </tbody>\n</table>\n</div>"
     },
     "execution_count": 3,
     "metadata": {},
     "output_type": "execute_result"
    }
   ],
   "source": [
    "pelic = pelic.set_index(\"answer_id\")\n",
    "pelic.info()\n",
    "pelic.head()"
   ],
   "metadata": {
    "collapsed": false,
    "pycharm": {
     "name": "#%%\n"
    }
   }
  },
  {
   "cell_type": "markdown",
   "source": [
    "`tokens`, `tok_lem_POS`, and their elements were all automatically (and correctly) processed:"
   ],
   "metadata": {
    "collapsed": false,
    "pycharm": {
     "name": "#%% md\n"
    }
   }
  },
  {
   "cell_type": "code",
   "execution_count": 4,
   "outputs": [
    {
     "name": "stdout",
     "output_type": "stream",
     "text": [
      "tokens: str[str]\n",
      "tok_lem_POS: str[str[str]]\n"
     ]
    }
   ],
   "source": [
    "print(f\"tokens: {type(pelic.tokens[1]).__name__}\"\n",
    "      f\"[{type(pelic.tokens[1][0]).__name__}]\")\n",
    "print(f\"tok_lem_POS: {type(pelic.tok_lem_POS[1]).__name__}\"\n",
    "      f\"[{type(pelic.tok_lem_POS[1][0]).__name__}\"\n",
    "      f\"[{type(pelic.tok_lem_POS[1][0][0]).__name__}]]\")"
   ],
   "metadata": {
    "collapsed": false,
    "pycharm": {
     "name": "#%%\n"
    }
   }
  },
  {
   "cell_type": "markdown",
   "source": [
    "## Basic Statistics"
   ],
   "metadata": {
    "collapsed": false,
    "pycharm": {
     "name": "#%% md\n"
    }
   }
  },
  {
   "cell_type": "code",
   "execution_count": 5,
   "outputs": [
    {
     "name": "stdout",
     "output_type": "stream",
     "text": [
      "<class 'pandas.core.frame.DataFrame'>\n",
      "Int64Index: 46204 entries, 1 to 48420\n",
      "Data columns (total 14 columns):\n",
      " #   Column          Non-Null Count  Dtype  \n",
      "---  ------          --------------  -----  \n",
      " 0   anon_id         46204 non-null  object \n",
      " 1   L1              46204 non-null  object \n",
      " 2   gender          46204 non-null  object \n",
      " 3   semester        46204 non-null  object \n",
      " 4   placement_test  23563 non-null  float64\n",
      " 5   course_id       46204 non-null  int64  \n",
      " 6   level_id        46204 non-null  int64  \n",
      " 7   class_id        46204 non-null  object \n",
      " 8   question_id     46204 non-null  int64  \n",
      " 9   version         46204 non-null  int64  \n",
      " 10  text_len        46204 non-null  int64  \n",
      " 11  text            46204 non-null  object \n",
      " 12  tokens          46204 non-null  object \n",
      " 13  tok_lem_POS     46204 non-null  object \n",
      "dtypes: float64(1), int64(5), object(8)\n",
      "memory usage: 6.3+ MB\n"
     ]
    }
   ],
   "source": [
    "pelic.info()"
   ],
   "metadata": {
    "collapsed": false,
    "pycharm": {
     "name": "#%%\n"
    }
   }
  },
  {
   "cell_type": "markdown",
   "source": [
    "There are 46,204 entries but the indices go from 1 to 48,420, so there must be at least 2,216 `answer_id`s missing from the dataset:"
   ],
   "metadata": {
    "collapsed": false,
    "pycharm": {
     "name": "#%% md\n"
    }
   }
  },
  {
   "cell_type": "code",
   "execution_count": 6,
   "outputs": [
    {
     "name": "stdout",
     "output_type": "stream",
     "text": [
      "[43, 48, 49, 50, 57, 58, 59, 63, 64, 65, 81, 82, 83, 98, 100, 102, 103, 144, 180, 186]\n"
     ]
    }
   ],
   "source": [
    "answer_ids = set(pelic.index.values)\n",
    "missing_answer_ids = [n for n in range(1, max(answer_ids) + 1) if\n",
    "                      n not in answer_ids]\n",
    "print(missing_answer_ids[:20])"
   ],
   "metadata": {
    "collapsed": false,
    "pycharm": {
     "name": "#%%\n"
    }
   }
  },
  {
   "cell_type": "markdown",
   "source": [
    "I'm assuming that the entries corresponding to these missing `answer_id`s were removed because they were from teachers, because they were too low-quality, or some other reason."
   ],
   "metadata": {
    "collapsed": false,
    "pycharm": {
     "name": "#%% md\n"
    }
   }
  },
  {
   "cell_type": "markdown",
   "source": [
    "Since this project will require analyzing students' L1 and proficiency level, below are the student counts broken down by L1 and proficiency level:"
   ],
   "metadata": {
    "collapsed": false,
    "pycharm": {
     "name": "#%% md\n"
    }
   }
  },
  {
   "cell_type": "code",
   "execution_count": 7,
   "outputs": [
    {
     "name": "stdout",
     "output_type": "stream",
     "text": [
      "L1 Counts:\n"
     ]
    },
    {
     "data": {
      "text/plain": "                   L1  Count\n0              Arabic    439\n1             Chinese    220\n2              Korean    214\n3            Japanese     67\n4             Spanish     57\n5             Turkish     40\n6                Thai     31\n7          Portuguese     17\n8               Other     14\n9             Italian     12\n10          Taiwanese     12\n11             French     10\n12            Russian      9\n13             Hebrew      6\n14              Farsi      4\n15             German      3\n16             Mongol      3\n17         Vietnamese      3\n18         Indonesian      2\n19             Polish      2\n20            English      2\n21        Azerbaijani      2\n22           Romanian      1\n23            Swedish      1\n24             Suundi      1\n25            Swahili      1\n26              Hindi      1\n27  Russian,Ukrainian      1\n28        Montenegrin      1\n29               Zulu      1",
      "text/html": "<div>\n<style scoped>\n    .dataframe tbody tr th:only-of-type {\n        vertical-align: middle;\n    }\n\n    .dataframe tbody tr th {\n        vertical-align: top;\n    }\n\n    .dataframe thead th {\n        text-align: right;\n    }\n</style>\n<table border=\"1\" class=\"dataframe\">\n  <thead>\n    <tr style=\"text-align: right;\">\n      <th></th>\n      <th>L1</th>\n      <th>Count</th>\n    </tr>\n  </thead>\n  <tbody>\n    <tr>\n      <th>0</th>\n      <td>Arabic</td>\n      <td>439</td>\n    </tr>\n    <tr>\n      <th>1</th>\n      <td>Chinese</td>\n      <td>220</td>\n    </tr>\n    <tr>\n      <th>2</th>\n      <td>Korean</td>\n      <td>214</td>\n    </tr>\n    <tr>\n      <th>3</th>\n      <td>Japanese</td>\n      <td>67</td>\n    </tr>\n    <tr>\n      <th>4</th>\n      <td>Spanish</td>\n      <td>57</td>\n    </tr>\n    <tr>\n      <th>5</th>\n      <td>Turkish</td>\n      <td>40</td>\n    </tr>\n    <tr>\n      <th>6</th>\n      <td>Thai</td>\n      <td>31</td>\n    </tr>\n    <tr>\n      <th>7</th>\n      <td>Portuguese</td>\n      <td>17</td>\n    </tr>\n    <tr>\n      <th>8</th>\n      <td>Other</td>\n      <td>14</td>\n    </tr>\n    <tr>\n      <th>9</th>\n      <td>Italian</td>\n      <td>12</td>\n    </tr>\n    <tr>\n      <th>10</th>\n      <td>Taiwanese</td>\n      <td>12</td>\n    </tr>\n    <tr>\n      <th>11</th>\n      <td>French</td>\n      <td>10</td>\n    </tr>\n    <tr>\n      <th>12</th>\n      <td>Russian</td>\n      <td>9</td>\n    </tr>\n    <tr>\n      <th>13</th>\n      <td>Hebrew</td>\n      <td>6</td>\n    </tr>\n    <tr>\n      <th>14</th>\n      <td>Farsi</td>\n      <td>4</td>\n    </tr>\n    <tr>\n      <th>15</th>\n      <td>German</td>\n      <td>3</td>\n    </tr>\n    <tr>\n      <th>16</th>\n      <td>Mongol</td>\n      <td>3</td>\n    </tr>\n    <tr>\n      <th>17</th>\n      <td>Vietnamese</td>\n      <td>3</td>\n    </tr>\n    <tr>\n      <th>18</th>\n      <td>Indonesian</td>\n      <td>2</td>\n    </tr>\n    <tr>\n      <th>19</th>\n      <td>Polish</td>\n      <td>2</td>\n    </tr>\n    <tr>\n      <th>20</th>\n      <td>English</td>\n      <td>2</td>\n    </tr>\n    <tr>\n      <th>21</th>\n      <td>Azerbaijani</td>\n      <td>2</td>\n    </tr>\n    <tr>\n      <th>22</th>\n      <td>Romanian</td>\n      <td>1</td>\n    </tr>\n    <tr>\n      <th>23</th>\n      <td>Swedish</td>\n      <td>1</td>\n    </tr>\n    <tr>\n      <th>24</th>\n      <td>Suundi</td>\n      <td>1</td>\n    </tr>\n    <tr>\n      <th>25</th>\n      <td>Swahili</td>\n      <td>1</td>\n    </tr>\n    <tr>\n      <th>26</th>\n      <td>Hindi</td>\n      <td>1</td>\n    </tr>\n    <tr>\n      <th>27</th>\n      <td>Russian,Ukrainian</td>\n      <td>1</td>\n    </tr>\n    <tr>\n      <th>28</th>\n      <td>Montenegrin</td>\n      <td>1</td>\n    </tr>\n    <tr>\n      <th>29</th>\n      <td>Zulu</td>\n      <td>1</td>\n    </tr>\n  </tbody>\n</table>\n</div>"
     },
     "execution_count": 7,
     "metadata": {},
     "output_type": "execute_result"
    }
   ],
   "source": [
    "print(\"L1 Counts:\")\n",
    "L1_counts = pelic.drop_duplicates(\"anon_id\").L1.value_counts()\n",
    "L1_counts = L1_counts.reset_index()\n",
    "L1_counts.rename(columns={\"L1\": \"Count\", \"index\": \"L1\"}, inplace=True)\n",
    "L1_counts"
   ],
   "metadata": {
    "collapsed": false,
    "pycharm": {
     "name": "#%%\n"
    }
   }
  },
  {
   "cell_type": "code",
   "execution_count": 8,
   "outputs": [
    {
     "data": {
      "text/plain": "<Figure size 432x288 with 1 Axes>",
      "image/png": "[encoded data removed]"
     },
     "metadata": {},
     "output_type": "display_data"
    }
   ],
   "source": [
    "sns.barplot(\n",
    "    data = L1_counts,\n",
    "    x=\"L1\",\n",
    "    y=\"Count\"\n",
    ").set(title=\"Number of Students by L1\")\n",
    "plt.xticks(rotation=90)\n",
    "plt.show()"
   ],
   "metadata": {
    "collapsed": false,
    "pycharm": {
     "name": "#%%\n"
    }
   }
  },
  {
   "cell_type": "markdown",
   "source": [
    "Arabic, Chinese, and Korean students comprise the vast majority of the dataset, with the counts of the other L1s drastically tapering off thereafter."
   ],
   "metadata": {
    "collapsed": false,
    "pycharm": {
     "name": "#%% md\n"
    }
   }
  },
  {
   "cell_type": "code",
   "execution_count": 9,
   "outputs": [
    {
     "name": "stdout",
     "output_type": "stream",
     "text": [
      "Proficiency Level Counts:\n"
     ]
    },
    {
     "data": {
      "text/plain": "   Level  Count\n0      4    524\n1      3    474\n2      5    151\n3      2     28",
      "text/html": "<div>\n<style scoped>\n    .dataframe tbody tr th:only-of-type {\n        vertical-align: middle;\n    }\n\n    .dataframe tbody tr th {\n        vertical-align: top;\n    }\n\n    .dataframe thead th {\n        text-align: right;\n    }\n</style>\n<table border=\"1\" class=\"dataframe\">\n  <thead>\n    <tr style=\"text-align: right;\">\n      <th></th>\n      <th>Level</th>\n      <th>Count</th>\n    </tr>\n  </thead>\n  <tbody>\n    <tr>\n      <th>0</th>\n      <td>4</td>\n      <td>524</td>\n    </tr>\n    <tr>\n      <th>1</th>\n      <td>3</td>\n      <td>474</td>\n    </tr>\n    <tr>\n      <th>2</th>\n      <td>5</td>\n      <td>151</td>\n    </tr>\n    <tr>\n      <th>3</th>\n      <td>2</td>\n      <td>28</td>\n    </tr>\n  </tbody>\n</table>\n</div>"
     },
     "execution_count": 9,
     "metadata": {},
     "output_type": "execute_result"
    }
   ],
   "source": [
    "print(\"Proficiency Level Counts:\")\n",
    "level_counts = pelic.drop_duplicates(\"anon_id\").level_id.value_counts()\n",
    "level_counts = level_counts.reset_index()\n",
    "level_counts.rename(columns={\"level_id\": \"Count\", \"index\": \"Level\"}, inplace=True)\n",
    "level_counts"
   ],
   "metadata": {
    "collapsed": false,
    "pycharm": {
     "name": "#%%\n"
    }
   }
  },
  {
   "cell_type": "code",
   "execution_count": 10,
   "outputs": [
    {
     "data": {
      "text/plain": "<Figure size 432x288 with 1 Axes>",
      "image/png": "[encoded data removed]"
     },
     "metadata": {},
     "output_type": "display_data"
    }
   ],
   "source": [
    "sns.barplot(\n",
    "    data = level_counts,\n",
    "    x=\"Level\",\n",
    "    y=\"Count\"\n",
    ").set(title=\"Number of Students by Level\")\n",
    "plt.show()"
   ],
   "metadata": {
    "collapsed": false,
    "pycharm": {
     "name": "#%%\n"
    }
   }
  },
  {
   "cell_type": "markdown",
   "source": [
    "It's clear from the graph that the vast majority of the students are intermediate or above (B1 or higher) in terms of proficiency level, with very few students being pre-intermediate (A2-B1)."
   ],
   "metadata": {
    "collapsed": false,
    "pycharm": {
     "name": "#%% md\n"
    }
   }
  },
  {
   "cell_type": "code",
   "execution_count": 11,
   "outputs": [
    {
     "name": "stdout",
     "output_type": "stream",
     "text": [
      "L1 and Proficiency Counts:\n"
     ]
    },
    {
     "data": {
      "text/plain": "             L1  Level  Count  Percentage\n0        Arabic      2     15    1.845018\n1        Arabic      3    244   30.012300\n2        Arabic      4    342   42.066421\n3        Arabic      5    212   26.076261\n4   Azerbaijani      3      1   50.000000\n..          ...    ...    ...         ...\n74      Turkish      5     12   17.647059\n75   Vietnamese      2      1   20.000000\n76   Vietnamese      3      1   20.000000\n77   Vietnamese      4      3   60.000000\n78         Zulu      3      1  100.000000\n\n[79 rows x 4 columns]",
      "text/html": "<div>\n<style scoped>\n    .dataframe tbody tr th:only-of-type {\n        vertical-align: middle;\n    }\n\n    .dataframe tbody tr th {\n        vertical-align: top;\n    }\n\n    .dataframe thead th {\n        text-align: right;\n    }\n</style>\n<table border=\"1\" class=\"dataframe\">\n  <thead>\n    <tr style=\"text-align: right;\">\n      <th></th>\n      <th>L1</th>\n      <th>Level</th>\n      <th>Count</th>\n      <th>Percentage</th>\n    </tr>\n  </thead>\n  <tbody>\n    <tr>\n      <th>0</th>\n      <td>Arabic</td>\n      <td>2</td>\n      <td>15</td>\n      <td>1.845018</td>\n    </tr>\n    <tr>\n      <th>1</th>\n      <td>Arabic</td>\n      <td>3</td>\n      <td>244</td>\n      <td>30.012300</td>\n    </tr>\n    <tr>\n      <th>2</th>\n      <td>Arabic</td>\n      <td>4</td>\n      <td>342</td>\n      <td>42.066421</td>\n    </tr>\n    <tr>\n      <th>3</th>\n      <td>Arabic</td>\n      <td>5</td>\n      <td>212</td>\n      <td>26.076261</td>\n    </tr>\n    <tr>\n      <th>4</th>\n      <td>Azerbaijani</td>\n      <td>3</td>\n      <td>1</td>\n      <td>50.000000</td>\n    </tr>\n    <tr>\n      <th>...</th>\n      <td>...</td>\n      <td>...</td>\n      <td>...</td>\n      <td>...</td>\n    </tr>\n    <tr>\n      <th>74</th>\n      <td>Turkish</td>\n      <td>5</td>\n      <td>12</td>\n      <td>17.647059</td>\n    </tr>\n    <tr>\n      <th>75</th>\n      <td>Vietnamese</td>\n      <td>2</td>\n      <td>1</td>\n      <td>20.000000</td>\n    </tr>\n    <tr>\n      <th>76</th>\n      <td>Vietnamese</td>\n      <td>3</td>\n      <td>1</td>\n      <td>20.000000</td>\n    </tr>\n    <tr>\n      <th>77</th>\n      <td>Vietnamese</td>\n      <td>4</td>\n      <td>3</td>\n      <td>60.000000</td>\n    </tr>\n    <tr>\n      <th>78</th>\n      <td>Zulu</td>\n      <td>3</td>\n      <td>1</td>\n      <td>100.000000</td>\n    </tr>\n  </tbody>\n</table>\n<p>79 rows × 4 columns</p>\n</div>"
     },
     "execution_count": 11,
     "metadata": {},
     "output_type": "execute_result"
    }
   ],
   "source": [
    "print(\"L1 and Proficiency Counts:\")\n",
    "L1_level_counts = pelic.groupby([\"L1\", \"level_id\"])[\"anon_id\"].nunique()\n",
    "L1_level_counts = L1_level_counts.reset_index()\n",
    "L1_level_counts.rename(columns={\"level_id\": \"Level\", \"anon_id\": \"Count\"}, inplace=True)\n",
    "L1_level_counts[\"Percentage\"] = L1_level_counts[\"Count\"] / L1_level_counts.groupby(\"L1\")[\"Count\"].transform(\"sum\") * 100\n",
    "L1_level_counts"
   ],
   "metadata": {
    "collapsed": false,
    "pycharm": {
     "name": "#%%\n"
    }
   }
  },
  {
   "cell_type": "code",
   "execution_count": 12,
   "outputs": [
    {
     "data": {
      "text/plain": "<Figure size 432x288 with 1 Axes>",
      "image/png": "[encoded data removed]"
     },
     "metadata": {},
     "output_type": "display_data"
    }
   ],
   "source": [
    "sns.histplot(\n",
    "    data = L1_level_counts,\n",
    "    x=\"L1\",\n",
    "    weights=\"Percentage\",\n",
    "    hue=\"Level\",\n",
    "    multiple=\"stack\",\n",
    ").set(title=\"Level Distribution by L1\")\n",
    "plt.xticks(rotation=90)\n",
    "plt.gca().invert_yaxis()\n",
    "plt.ylabel(\"Percentage\")\n",
    "plt.yticks(range(0, 101, 10), range(100, -1, -10))  # Really hacky way to reverse the bars\n",
    "plt.legend(labels = [5, 4, 3, 2], bbox_to_anchor = (1, 1.02))\n",
    "plt.show()"
   ],
   "metadata": {
    "collapsed": false,
    "pycharm": {
     "name": "#%%\n"
    }
   }
  },
  {
   "cell_type": "markdown",
   "source": [
    "Apart from the aforementioned fact that most students are at the intermediate to advanced level, the stacked bar plot also shows that the L1s with the highest counts (Arabic, Chinese, etc.) tend to have much more balanced distributions than those with far lower counts (Vietnamese, Zulu, etc.)."
   ],
   "metadata": {
    "collapsed": false,
    "pycharm": {
     "name": "#%% md\n"
    }
   }
  },
  {
   "cell_type": "markdown",
   "source": [
    "## Data Samples\n",
    "\n",
    "Since the dataset has tens of thousands of rows, the first 100 will be selected as a sample:"
   ],
   "metadata": {
    "collapsed": false,
    "pycharm": {
     "name": "#%% md\n"
    }
   }
  },
  {
   "cell_type": "code",
   "execution_count": 13,
   "outputs": [],
   "source": [
    "# pelic.head(100).to_csv(\"data_samples/pelic-sample.csv\")"
   ],
   "metadata": {
    "collapsed": false,
    "pycharm": {
     "name": "#%%\n"
    }
   }
  }
 ],
 "metadata": {
  "kernelspec": {
   "display_name": "Python 3",
   "language": "python",
   "name": "python3"
  },
  "language_info": {
   "codemirror_mode": {
    "name": "ipython",
    "version": 2
   },
   "file_extension": ".py",
   "mimetype": "text/x-python",
   "name": "python",
   "nbconvert_exporter": "python",
   "pygments_lexer": "ipython2",
   "version": "2.7.6"
  }
 },
 "nbformat": 4,
 "nbformat_minor": 0
}